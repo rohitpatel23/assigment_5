{
 "cells": [
  {
   "cell_type": "code",
   "execution_count": 8,
   "id": "a5859311-d974-4db4-85f3-69e756a94ceb",
   "metadata": {},
   "outputs": [],
   "source": [
    "#Q1. What is the Probability density function?"
   ]
  },
  {
   "cell_type": "code",
   "execution_count": 9,
   "id": "b0b48507-5e5c-4cc5-9212-7763273865c4",
   "metadata": {},
   "outputs": [
    {
     "data": {
      "text/plain": [
       "'a probability density function (PDF) is used to define the random variable’s probability coming within a distinct range of values, as opposed to taking on any one value.'"
      ]
     },
     "execution_count": 9,
     "metadata": {},
     "output_type": "execute_result"
    }
   ],
   "source": [
    " '''a probability density function (PDF) is used to define the random variable’s probability coming within a distinct range of values, as opposed to taking on any one value.'''"
   ]
  },
  {
   "cell_type": "code",
   "execution_count": 10,
   "id": "09a6b8de-4c76-4547-b2b0-4f433a4b59c1",
   "metadata": {},
   "outputs": [],
   "source": [
    "#Q2. What are the types of Probability distribution?"
   ]
  },
  {
   "cell_type": "code",
   "execution_count": 11,
   "id": "b9ea58e2-98a9-4233-8eee-7bebc1b5c467",
   "metadata": {},
   "outputs": [
    {
     "data": {
      "text/plain": [
       "'\\n1. Probability density function (PDF)\\n2. Probability Mass function (PMF)\\n3. Commlative Distribution function (CDF)'"
      ]
     },
     "execution_count": 11,
     "metadata": {},
     "output_type": "execute_result"
    }
   ],
   "source": [
    "'''\n",
    "1. Probability density function (PDF)\n",
    "2. Probability Mass function (PMF)\n",
    "3. Commlative Distribution function (CDF)'''"
   ]
  },
  {
   "cell_type": "code",
   "execution_count": 12,
   "id": "4923601c-5acd-434f-a6b0-24b9a15d5813",
   "metadata": {},
   "outputs": [
    {
     "data": {
      "text/plain": [
       "'Q3. Write a Python function to calculate the probability density function of a normal distribution with\\ngiven mean and standard deviation at a given point.'"
      ]
     },
     "execution_count": 12,
     "metadata": {},
     "output_type": "execute_result"
    }
   ],
   "source": [
    "'''Q3. Write a Python function to calculate the probability density function of a normal distribution with\n",
    "given mean and standard deviation at a given point.'''"
   ]
  },
  {
   "cell_type": "code",
   "execution_count": 13,
   "id": "e987e4b3-08d9-47d6-9608-6bdd86c34ac3",
   "metadata": {},
   "outputs": [],
   "source": [
    "import math\n",
    "\n",
    "def normal_pdf(x, mu, sigma):\n",
    "    \"\"\"\n",
    "    Calculates the probability density function (PDF) of a normal distribution\n",
    "    with given mean and standard deviation at a given point.\n",
    "    \"\"\"\n",
    "    coeff = 1 / (sigma * math.sqrt(2 * math.pi))\n",
    "    exponent = -((x - mu)**2 / (2 * sigma**2))\n",
    "    return coeff * math.exp(exponent)\n"
   ]
  },
  {
   "cell_type": "code",
   "execution_count": 14,
   "id": "8fae635f-c423-4de5-8878-b69d330d7e0b",
   "metadata": {},
   "outputs": [
    {
     "data": {
      "text/plain": [
       "'Q4. What are the properties of Binomial distribution? Give two examples of events where binomial\\ndistribution can be applied.'"
      ]
     },
     "execution_count": 14,
     "metadata": {},
     "output_type": "execute_result"
    }
   ],
   "source": [
    "'''Q4. What are the properties of Binomial distribution? Give two examples of events where binomial\n",
    "distribution can be applied.'''"
   ]
  },
  {
   "cell_type": "code",
   "execution_count": 16,
   "id": "cd90d6d7-6b40-49e9-a95a-c4a9bdbb8297",
   "metadata": {},
   "outputs": [
    {
     "data": {
      "text/plain": [
       "'\\nExample \\nTossing a coin a fixed number of times and counting the number of times it lands heads. Here, a \"success\" could be defined as the coin landing heads, and the probability of success (p) would be 0.5 assuming a fair coin.\\n\\nTesting a batch of electronic components to see how many are defective. Here, a \"success\" could be defined as a component being defective, and the probability of success (p) would be the proportion of defective components in the batch.'"
      ]
     },
     "execution_count": 16,
     "metadata": {},
     "output_type": "execute_result"
    }
   ],
   "source": [
    "''' 1.The number of trials (n) is fixed.\n",
    "2.Each trial is independent of the others.\n",
    "3.The probability of success (p) is constant for each trial.\n",
    "4.The random variable X represents the number of successes in n trials.\n",
    "5.The distribution is discrete, meaning that X can only take on integer values between 0 and n.'''\n",
    "'''\n",
    "Example \n",
    "Tossing a coin a fixed number of times and counting the number of times it lands heads. Here, a \"success\" could be defined as the coin landing heads, and the probability of success (p) would be 0.5 assuming a fair coin.\n",
    "\n",
    "Testing a batch of electronic components to see how many are defective. Here, a \"success\" could be defined as a component being defective, and the probability of success (p) would be the proportion of defective components in the batch.'''"
   ]
  },
  {
   "cell_type": "code",
   "execution_count": 17,
   "id": "3c0e08fe-a06c-4dd3-a75b-b5b2b0f2c3a2",
   "metadata": {},
   "outputs": [
    {
     "data": {
      "text/plain": [
       "'Q5. Generate a random sample of size 1000 from a binomial distribution with probability of success 0.4\\nand plot a histogram of the results using matplotlib.'"
      ]
     },
     "execution_count": 17,
     "metadata": {},
     "output_type": "execute_result"
    }
   ],
   "source": [
    "'''Q5. Generate a random sample of size 1000 from a binomial distribution with probability of success 0.4\n",
    "and plot a histogram of the results using matplotlib.'''"
   ]
  },
  {
   "cell_type": "code",
   "execution_count": 18,
   "id": "cce8e858-5a74-471f-a859-6642684c9328",
   "metadata": {},
   "outputs": [
    {
     "data": {
      "image/png": "[encoded data removed]",
      "text/plain": [
       "<Figure size 640x480 with 1 Axes>"
      ]
     },
     "metadata": {},
     "output_type": "display_data"
    }
   ],
   "source": [
    "import numpy as np\n",
    "import matplotlib.pyplot as plt\n",
    "\n",
    "# Set the seed for reproducibility\n",
    "np.random.seed(123)\n",
    "\n",
    "# Generate a random sample of size 1000 from a binomial distribution with p=0.4\n",
    "n = 1000\n",
    "p = 0.4\n",
    "sample = np.random.binomial(n, p, size=1000)\n",
    "\n",
    "# Plot the histogram\n",
    "plt.hist(sample, bins=20, density=True)\n",
    "plt.xlabel('Number of successes')\n",
    "plt.ylabel('Probability density')\n",
    "plt.title('Histogram of Binomial Distribution with p=0.4 and n=1000')\n",
    "plt.show()\n"
   ]
  },
  {
   "cell_type": "code",
   "execution_count": 19,
   "id": "56da5a21-cc9e-4676-933d-dded9355ea13",
   "metadata": {},
   "outputs": [
    {
     "data": {
      "text/plain": [
       "'Q6. Write a Python function to calculate the cumulative distribution function of a Poisson distribution\\nwith given mean at a given point.'"
      ]
     },
     "execution_count": 19,
     "metadata": {},
     "output_type": "execute_result"
    }
   ],
   "source": [
    "'''Q6. Write a Python function to calculate the cumulative distribution function of a Poisson distribution\n",
    "with given mean at a given point.'''"
   ]
  },
  {
   "cell_type": "code",
   "execution_count": 20,
   "id": "08af46f2-09c4-4234-8116-83968103e982",
   "metadata": {},
   "outputs": [],
   "source": [
    "import math\n",
    "\n",
    "def poisson_cdf(mean, k):\n",
    "    \"\"\"\n",
    "    Calculates the cumulative distribution function (CDF) of a Poisson distribution with a given mean at a given point.\n",
    "    \n",
    "    Args:\n",
    "    - mean (float): The mean of the Poisson distribution.\n",
    "    - k (int): The point at which to evaluate the CDF.\n",
    "    \n",
    "    Returns:\n",
    "    - cdf (float): The value of the CDF at the given point.\n",
    "    \"\"\"\n",
    "    cdf = 0.0\n",
    "    for i in range(k+1):\n",
    "        cdf += math.exp(-mean) * mean**i / math.factorial(i)\n",
    "    return cdf\n"
   ]
  },
  {
   "cell_type": "code",
   "execution_count": 21,
   "id": "14cf479d-ff70-421b-9aa7-228a6fde0a3f",
   "metadata": {},
   "outputs": [],
   "source": [
    "#Q7. How Binomial distribution different from Poisson distribution?"
   ]
  },
  {
   "cell_type": "code",
   "execution_count": 22,
   "id": "4723c395-646b-480d-b572-fb638a87f129",
   "metadata": {},
   "outputs": [
    {
     "data": {
      "text/plain": [
       "'The Binomial and Poisson distributions are both probability distributions that are commonly used to model the number of occurrences of a certain event. \\nMean and variance: The mean and variance of a Binomial distribution with n trials and probability of success p are given by μ = np and σ^2 = np(1-p), while the mean and variance of a Poisson distribution with mean λ are both equal to λ.'"
      ]
     },
     "execution_count": 22,
     "metadata": {},
     "output_type": "execute_result"
    }
   ],
   "source": [
    "'''The Binomial and Poisson distributions are both probability distributions that are commonly used to model the number of occurrences of a certain event. \n",
    "Mean and variance: The mean and variance of a Binomial distribution with n trials and probability of success p are given by μ = np and σ^2 = np(1-p), while the mean and variance of a Poisson distribution with mean λ are both equal to λ.'''"
   ]
  },
  {
   "cell_type": "code",
   "execution_count": 23,
   "id": "d4a1a0fc-595f-413f-a811-0226dcfdef14",
   "metadata": {},
   "outputs": [
    {
     "data": {
      "text/plain": [
       "'Q8. Generate a random sample of size 1000 from a Poisson distribution with mean 5 and calculate the\\nsample mean and variance'"
      ]
     },
     "execution_count": 23,
     "metadata": {},
     "output_type": "execute_result"
    }
   ],
   "source": [
    "'''Q8. Generate a random sample of size 1000 from a Poisson distribution with mean 5 and calculate the\n",
    "sample mean and variance'''"
   ]
  },
  {
   "cell_type": "code",
   "execution_count": 24,
   "id": "ba6eb630-003a-49a0-95c0-f3fd674a3ece",
   "metadata": {},
   "outputs": [
    {
     "name": "stdout",
     "output_type": "stream",
     "text": [
      "Sample mean: 4.9190\n",
      "Sample variance: 5.0355\n"
     ]
    }
   ],
   "source": [
    "import numpy as np\n",
    "\n",
    "# Set the seed for reproducibility\n",
    "np.random.seed(123)\n",
    "\n",
    "# Generate a random sample of size 1000 from a Poisson distribution with mean 5\n",
    "sample = np.random.poisson(5, size=1000)\n",
    "\n",
    "# Calculate the sample mean and variance\n",
    "sample_mean = np.mean(sample)\n",
    "sample_var = np.var(sample, ddof=1)\n",
    "\n",
    "# Print the results\n",
    "print(\"Sample mean: {:.4f}\".format(sample_mean))\n",
    "print(\"Sample variance: {:.4f}\".format(sample_var))\n"
   ]
  },
  {
   "cell_type": "code",
   "execution_count": 25,
   "id": "d9362cc2-da2a-4c5f-8974-413babb73f5a",
   "metadata": {},
   "outputs": [
    {
     "data": {
      "text/plain": [
       "'Q9. How mean and variance are related in Binomial distribution and Poisson distribution?'"
      ]
     },
     "execution_count": 25,
     "metadata": {},
     "output_type": "execute_result"
    }
   ],
   "source": [
    "'''Q9. How mean and variance are related in Binomial distribution and Poisson distribution?'''"
   ]
  },
  {
   "cell_type": "code",
   "execution_count": 27,
   "id": "b245ee90-8a94-4f65-845f-740b86364e5f",
   "metadata": {},
   "outputs": [
    {
     "data": {
      "text/plain": [
       "'n the Binomial distribution, the mean and variance are related by the formula:\\n\\nμ = np\\n\\nσ^2 = np(1-p)\\n\\nwhere μ is the mean, σ^2 is the variance, n is the number of trials, and p is the probability of success in each trial.\\n\\nIn the Poisson distribution, the mean and variance are equal and are both given by the parameter λ:\\n\\nμ = λ\\n\\nσ^2 = λ'"
      ]
     },
     "execution_count": 27,
     "metadata": {},
     "output_type": "execute_result"
    }
   ],
   "source": [
    "'''n the Binomial distribution, the mean and variance are related by the formula:\n",
    "\n",
    "μ = np\n",
    "\n",
    "σ^2 = np(1-p)\n",
    "\n",
    "where μ is the mean, σ^2 is the variance, n is the number of trials, and p is the probability of success in each trial.\n",
    "\n",
    "In the Poisson distribution, the mean and variance are equal and are both given by the parameter λ:\n",
    "\n",
    "μ = λ\n",
    "\n",
    "σ^2 = λ'''"
   ]
  },
  {
   "cell_type": "code",
   "execution_count": 28,
   "id": "eda32ae4-a977-4b14-96aa-6f4c774dbd85",
   "metadata": {},
   "outputs": [],
   "source": [
    "#Q10. In normal distribution with respect to mean position, where does the least frequent data appear?"
   ]
  },
  {
   "cell_type": "code",
   "execution_count": 29,
   "id": "72022f9c-4f7d-4ad1-9708-0bdf29322a8c",
   "metadata": {},
   "outputs": [
    {
     "data": {
      "text/plain": [
       "'In a normal distribution, the least frequent data appears in the tails of the distribution, farthest from the mean. This is because the normal distribution is symmetric around the mean, and the probability density decreases rapidly as you move away from the mean towards the tails. '"
      ]
     },
     "execution_count": 29,
     "metadata": {},
     "output_type": "execute_result"
    }
   ],
   "source": [
    "'''In a normal distribution, the least frequent data appears in the tails of the distribution, farthest from the mean. This is because the normal distribution is symmetric around the mean, and the probability density decreases rapidly as you move away from the mean towards the tails. '''"
   ]
  },
  {
   "cell_type": "code",
   "execution_count": null,
   "id": "1a5f3265-25b8-44db-a3ff-480a4251d0ce",
   "metadata": {},
   "outputs": [],
   "source": []
  }
 ],
 "metadata": {
  "kernelspec": {
   "display_name": "Python 3 (ipykernel)",
   "language": "python",
   "name": "python3"
  },
  "language_info": {
   "codemirror_mode": {
    "name": "ipython",
    "version": 3
   },
   "file_extension": ".py",
   "mimetype": "text/x-python",
   "name": "python",
   "nbconvert_exporter": "python",
   "pygments_lexer": "ipython3",
   "version": "3.10.8"
  }
 },
 "nbformat": 4,
 "nbformat_minor": 5
}
